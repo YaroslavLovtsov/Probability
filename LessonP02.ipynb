{
  "nbformat": 4,
  "nbformat_minor": 0,
  "metadata": {
    "colab": {
      "name": "LessonP02.ipynb",
      "provenance": [],
      "collapsed_sections": []
    },
    "kernelspec": {
      "name": "python3",
      "display_name": "Python 3"
    },
    "language_info": {
      "name": "python"
    }
  },
  "cells": [
    {
      "cell_type": "markdown",
      "metadata": {
        "id": "f8_9KIQaPJtf"
      },
      "source": [
        "1. Вероятность того, что стрелок попадет в мишень, выстрелив один раз, равна 0.8. Стрелок выстрелил 100 раз. Найдите вероятность того, что стрелок попадет в цель ровно 85 раз.\n",
        "\n",
        "**Решение**\n",
        "\n",
        "$$ p = C_{100}^{85} \\cdot 0.8^{85}\\cdot 0.2^{15} \\approx 0.04806 $$"
      ]
    },
    {
      "cell_type": "code",
      "metadata": {
        "colab": {
          "base_uri": "https://localhost:8080/"
        },
        "id": "xOEGNzStQI-h",
        "outputId": "6dec0922-5a24-4d73-cda5-1f5a6930fd88"
      },
      "source": [
        "nominator_factor = 100\n",
        "denominator_factor = 1\n",
        "\n",
        "SUCCESS_PROBABILITY = 0.8\n",
        "FAIL_PROBABILITY = 0.2\n",
        "\n",
        "probability = 1\n",
        "\n",
        "for el in range(15): #помимо числителя и знаменателя из С умножим нашу дробь на 0.8 и 0.2 на каждом шаге цикла\n",
        "  probability *= (nominator_factor * SUCCESS_PROBABILITY * FAIL_PROBABILITY)\n",
        "  \n",
        "  for q in range(4): # еще 60 домножений дроби на 0.8 отыграем таким образом\n",
        "   probability *= SUCCESS_PROBABILITY\n",
        "\n",
        "  probability /= denominator_factor\n",
        "\n",
        "  denominator_factor += 1\n",
        "  nominator_factor -= 1\n",
        "\n",
        "  # полученное значение остается домножить на 0.8 ** 10\n",
        "  \n",
        "print(probability * (SUCCESS_PROBABILITY ** 10))"
      ],
      "execution_count": null,
      "outputs": [
        {
          "output_type": "stream",
          "text": [
            "0.04806179370074652\n"
          ],
          "name": "stdout"
        }
      ]
    },
    {
      "cell_type": "markdown",
      "metadata": {
        "id": "6QGNAhOoPPik"
      },
      "source": [
        "2. Вероятность того, что лампочка перегорит в течение первого дня эксплуатации, равна 0.0004. В жилом комплексе после ремонта в один день включили 5000 новых лампочек. Какова вероятность, что ни одна из них не перегорит в первый день? Какова вероятность, что перегорят ровно две?\n",
        "\n",
        "**Решение**\n",
        "\n",
        "$$\\lambda = 5000 \\cdot 0.0004 = 2$$\n",
        "\n",
        "$$p = \\frac{2^0}{0!} \\cdot e^{-2} = \\frac{1}{e^2} \\approx 0.13534$$"
      ]
    },
    {
      "cell_type": "code",
      "metadata": {
        "colab": {
          "base_uri": "https://localhost:8080/"
        },
        "id": "ng3jdMFFWKZA",
        "outputId": "e1cec3e8-07c9-4beb-946f-a384063229ce"
      },
      "source": [
        "import numpy as np\n",
        "\n",
        "print(np.exp(-2))"
      ],
      "execution_count": null,
      "outputs": [
        {
          "output_type": "stream",
          "text": [
            "0.1353352832366127\n"
          ],
          "name": "stdout"
        }
      ]
    },
    {
      "cell_type": "markdown",
      "metadata": {
        "id": "n_E4QsATPP7j"
      },
      "source": [
        "3. Монету подбросили 144 раза. Какова вероятность, что орел выпадет ровно 70 раз?\n",
        "\n",
        "**Решение**\n",
        "\n",
        "$$p = C_{144}^{70}\\cdot\\Bigl(\\frac{1}{2}\\Bigr)^{70}\\cdot \\Bigl(\\frac{1}{2}\\Bigr)^{74} \\approx 0.06281$$\n"
      ]
    },
    {
      "cell_type": "code",
      "metadata": {
        "colab": {
          "base_uri": "https://localhost:8080/"
        },
        "id": "GTPTbkGYXdng",
        "outputId": "2716ffea-11b4-4c63-c800-2d4e7a7a08e3"
      },
      "source": [
        "nominator_factor = 144\n",
        "denominator_factor = 1\n",
        "\n",
        "SUCCESS_PROBABILITY = 0.5\n",
        "FAIL_PROBABILITY = 0.5\n",
        "\n",
        "probability = 1\n",
        "\n",
        "for el in range(70): #помимо числителя и знаменателя из С умножим нашу дробь на 0.25 на каждом шаге цикла\n",
        "  probability *= (nominator_factor * SUCCESS_PROBABILITY * FAIL_PROBABILITY)\n",
        "  \n",
        "  probability /= denominator_factor\n",
        "\n",
        "  denominator_factor += 1\n",
        "  nominator_factor -= 1\n",
        "\n",
        "  # полученное значение остается домножить на 0.5 ** 4\n",
        "  \n",
        "print(probability * (FAIL_PROBABILITY ** 4))"
      ],
      "execution_count": null,
      "outputs": [
        {
          "output_type": "stream",
          "text": [
            "0.06281178035144783\n"
          ],
          "name": "stdout"
        }
      ]
    },
    {
      "cell_type": "markdown",
      "metadata": {
        "id": "R4tQ1sxpPQNk"
      },
      "source": [
        "4. В первом ящике находится 10 мячей, из которых 7 - белые. Во втором ящике - 11 мячей, из которых 9 белых. Из каждого ящика вытаскивают случайным образом по два мяча. Какова вероятность того, что все мячи белые? Какова вероятность того, что ровно два мяча белые? Какова вероятность того, что хотя бы один мяч белый?\n",
        "\n",
        "**Решение**\n",
        "\n",
        "Найдем вероятность извлечения 0, 1 и 2 белых мячей из первого (обозначим их $p_{10},p_{11},p_{12}$ соответственно) и из второго (обозначим их $p_{20},p_{21},p_{22}$ соответственно)\n",
        "\n",
        "$$p_{10} = \\frac{C_{3}^{2}\\cdot C_{7}^{0}}{C_{10}^{2}} = \\frac{\\frac{3!}{2!\\cdot1!}}{\\frac{10!}{2!\\cdot8!}} = \\frac{6}{10 \\cdot 9} = \\frac{1}{15},\\,\\,\\,p_{20} = \\frac{C_{2}^{2}\\cdot C_{9}^{0}}{C_{11}^{2}} = \\frac{1}{\\frac{11!}{2!\\cdot 9!}} = \\frac{2}{10 \\cdot 11} = \\frac{1}{55}\n",
        "$$\n",
        "\n",
        "$$p_{11} = \\frac{C_{3}^{1} \\cdot C_{7}^{1}}{C_{10}^{2}} = \\frac{\\frac{3!}{2!\\cdot1!} \\frac{7!}{6! \\cdot 1!}}{\\frac{10!}{2!\\cdot8!}} = \\frac{6 \\cdot 7}{10 \\cdot 9} = \\frac{7}{15},\\,\\,\\,p_{21} = \\frac{C_{2}^{1}\\cdot C_{9}^{1}}{C_{11}^{2}} = \\frac{2 \\cdot 9}{\\frac{11!}{2!\\cdot 9!}} = \\frac{2 \\cdot 9 \\cdot 2}{10 \\cdot 11} = \\frac{18}{55}$$\n",
        "\n",
        "$$p_{12} = \\frac{C_{3}^{0}\\cdot C_{7}^{2}}{C_{10}^{2}} = \\frac{\\frac{7!}{2!\\cdot 5!}}{\\frac{10!}{2!\\cdot8!}} = \\frac{7 \\cdot 6}{10 \\cdot 9} = \\frac{7}{15},\\,\\,\\,p_{22} = \\frac{C_{2}^{0} \\cdot C_{9}^{2}}{C_{11}^{2}} = \\frac{\\frac{9!}{7! \\cdot 2!}}{\\frac{11!}{2!\\cdot 9!}} = \\frac{9 \\cdot 8}{10 \\cdot 11} = \\frac{36}{55}$$\n",
        "\n",
        "Вероятность извлечь все белые мячи:\n",
        "\n",
        "$$p_{4} = p_{12} \\cdot p_{22} = \\frac{7}{15} \\cdot \\frac{36}{55} = \\frac{252} {825}\\approx 0,30545$$\n",
        "\n",
        "Вероятность извлечь ровно два белых мяча:\n",
        "\n",
        "$$p_{2} = p_{10} \\cdot p_{22} + p_{11} \\cdot p_{21} + p_{12} \\cdot p_{20} = \\frac{1}{15} \\cdot \\frac{36}{55} + \\frac{7}{15} \\cdot \\frac{18}{55} + \\frac{7}{15} \\cdot \\frac{1}{55} = \\frac{169} {825}\\approx 0,20485$$\n",
        "\n",
        "Вероятность не извлечь ни одного белого мяча:\n",
        "\n",
        "$$p_{0} = p_{10} \\cdot p_{20} = \\frac{1}{15} \\cdot \\frac{1}{55} = \\frac{1}{825}\\approx 0,00121$$\n",
        "\n",
        "Вероятность извлечь хотя бы один белый мяч\n",
        "\n",
        "$$ \\overline{p_{0}} = 1 - p_{0} = \\frac{824}{825}\\approx 0,99879$$\n"
      ]
    }
  ]
}